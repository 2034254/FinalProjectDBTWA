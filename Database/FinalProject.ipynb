{
 "cells": [
  {
   "cell_type": "code",
   "execution_count": 44,
   "metadata": {
    "id": "cU58wTRZoEHw"
   },
   "outputs": [],
   "source": [
    "# All imports\n",
    "#from google.colab import drive\n",
    "import pandas as pd\n",
    "import seaborn as sns\n",
    "import matplotlib.pyplot as plt\n",
    "#from google.colab import files"
   ]
  },
  {
   "cell_type": "code",
   "execution_count": null,
   "metadata": {
    "colab": {
     "base_uri": "https://localhost:8080/"
    },
    "id": "lyo-NuGkoa-5",
    "outputId": "abb298d2-7ee7-4607-863a-5c36a934ee5b"
   },
   "outputs": [],
   "source": [
    "# Mount drive\n",
    "#drive.mount('/content/drive/')"
   ]
  },
  {
   "cell_type": "code",
   "execution_count": null,
   "metadata": {
    "id": "CMb-nPV182De"
   },
   "outputs": [],
   "source": [
    "!pip install redshift_connector\n",
    "import redshift_connector\n",
    "conn = redshift_connector.connect(\n",
    "     host='redshift-cluster-1.cigoy313aggq.us-east-1.redshift.amazonaws.com',\n",
    "     database='dev',\n",
    "     port=5439,\n",
    "     user='awsuser',\n",
    "     password='Winter2023'\n",
    "  )\n",
    "\n",
    "\n",
    "def execute_query(conn, query):\n",
    "    cursor = conn.cursor()\n",
    "    try:\n",
    "        cursor.execute(query)\n",
    "        conn.commit()\n",
    "        print(\"Query successful\")\n",
    "    except Error as err:\n",
    "        print(f\"Error: '{err}'\")\n",
    "        \n",
    "        \n",
    "create_finalProject_table = \"\"\"\n",
    "CREATE TABLE if not exists finalProject (\n",
    "  Id INT PRIMARY KEY AUTO_INCREMENT,\n",
    "  Entity VARCHAR(32) NOT NULL,\n",
    "  Year INT NOT NULL,\n",
    "  Annual_CO₂_emissions float,\n",
    "  GDP_per_capita float,\n",
    "  Population float ,\n",
    "  per_gdp_CO2 float ,\n",
    "  Annual_nitrous_oxide_emissions float,\n",
    "Annual_methane_emissions float,\n",
    "per_capita_CO2 float,\n",
    "C02_emmissions_worldtotal float\n",
    ");\n",
    " \"\"\"\n",
    "\n",
    "\n",
    "\n",
    "execute_query(conn, create_finalProject_table) # Execute our defined query\n",
    "\n",
    "def execute_list_query(conn, sql, val):\n",
    "    cursor = conne.cursor()\n",
    "    try:\n",
    "        cursor.executemany(sql, val)\n",
    "        conn.commit()\n",
    "        print(\"Query successful\")\n",
    "    except Error as err:\n",
    "        print(f\"Error: '{err}'\")\n",
    "\n",
    "\n",
    "\n",
    "def read_query(conn, query):\n",
    "    cursor = conn.cursor()\n",
    "    result = None\n",
    "    try:\n",
    "        cursor.execute(query)\n",
    "        result = cursor.fetchall()\n",
    "        return result\n",
    "    except Error as err:\n",
    "        print(f\"Error: '{err}'\")\n",
    "        \n",
    "\n",
    "        \n",
    "sql1 = '''\n",
    "   INSERT INTO finalProject (Entity, Year, Annual_CO₂_emissions, per_capita_CO2 , GDP_per_capita, Population, per_gdp_CO2, Annual_nitrous_oxide_emissions , Annual_methane_emissions, \n",
    "C02_emmissions_worldtotal)\n",
    "    VALUES ( %s, %s, %s, %s, %s, %s, %s, %s,%s,%s)\n",
    "  '''\n",
    "\n",
    "val1 = df_pop3_final.values.tolist()\n",
    "#print(val1)\n",
    "#connection = create_db_connection(\"localhost\", \"root\", pw, db)\n",
    "execute_list_query(conn, sql1, val1)    \n",
    "\n",
    "firstQuery ='''SELECT ENTITY, Annual_CO₂_emissions, Year from finalProject;'''\n",
    "connection = create_db_connection(\"localhost\", \"root\", pw, db)\n",
    "df_co2_graph = read_query(connection, firstQuery)\n",
    "print(df_co2_graph)\n",
    "\n",
    "#Retrieve the query result set\n",
    "result: tuple = cursor.fetchall()\n",
    "print(result)         \n"
   ]
  },
  {
   "cell_type": "code",
   "execution_count": 45,
   "metadata": {
    "colab": {
     "base_uri": "https://localhost:8080/"
    },
    "id": "93KZTSyJ-Gay",
    "outputId": "e8078f54-3339-4e22-8d95-b1c333f8699e"
   },
   "outputs": [
    {
     "name": "stdout",
     "output_type": "stream",
     "text": [
      "Requirement already satisfied: mysql.connector in c:\\python310\\lib\\site-packages (2.2.9)\n"
     ]
    },
    {
     "name": "stderr",
     "output_type": "stream",
     "text": [
      "\n",
      "[notice] A new release of pip is available: 23.0.1 -> 23.1\n",
      "[notice] To update, run: python.exe -m pip install --upgrade pip\n"
     ]
    }
   ],
   "source": [
    "#Connect to the cluster\n",
    "!pip install mysql.connector\n",
    "import mysql.connector\n",
    "from mysql.connector import Error\n",
    "\n"
   ]
  },
  {
   "cell_type": "code",
   "execution_count": 15,
   "metadata": {
    "colab": {
     "base_uri": "https://localhost:8080/"
    },
    "id": "7mMfAonz-HnK",
    "outputId": "532246b8-ff67-4734-de21-0163227d49d0"
   },
   "outputs": [
    {
     "name": "stdout",
     "output_type": "stream",
     "text": [
      "MySQL Database connection successful\n"
     ]
    }
   ],
   "source": [
    "\n",
    "def create_server_connection(host_name, user_name, user_password):\n",
    "    connection = None\n",
    "    try:\n",
    "        connection = mysql.connector.connect(\n",
    "            host=host_name,\n",
    "            user=user_name,\n",
    "            passwd=user_password\n",
    "        )\n",
    "        print(\"MySQL Database connection successful\")\n",
    "    except Error as err:\n",
    "        print(f\"Error: '{err}'\")\n",
    "\n",
    "    return connection\n",
    "\n",
    "pw = 'Fall2022' # IMPORTANT! Put your MySQL Terminal password here.\n",
    "db = \"school\" # This is the name of the database we will create in the next step - call it whatever you like.\n",
    "\n",
    "connection = create_server_connection(\"localhost\", \"root\", pw)"
   ]
  },
  {
   "cell_type": "code",
   "execution_count": null,
   "metadata": {
    "colab": {
     "base_uri": "https://localhost:8080/",
     "height": 337
    },
    "id": "wWQP2mgO-Nlw",
    "outputId": "43f9bb93-683d-462d-c0ee-bf1eea362e8b"
   },
   "outputs": [],
   "source": [
    "def create_database(connection, query):\n",
    "    cursor = connection.cursor()\n",
    "    try:\n",
    "        cursor.execute(query)\n",
    "        print(\"Database created successfully\")\n",
    "    except Error as err:\n",
    "        print(f\"Error: '{err}'\")\n",
    "\n",
    "create_database_query = \"CREATE DATABASE school\"\n",
    "create_database(connection, create_database_query)"
   ]
  },
  {
   "cell_type": "code",
   "execution_count": 16,
   "metadata": {
    "id": "yZwAsqVR-Q1y"
   },
   "outputs": [],
   "source": [
    "def create_db_connection(host_name, user_name, user_password, db_name):\n",
    "    connection = None\n",
    "    try:\n",
    "        connection = mysql.connector.connect(\n",
    "            host=host_name,\n",
    "            user=user_name,\n",
    "            passwd=user_password,\n",
    "            database=db_name\n",
    "        )\n",
    "        print(\"MySQL Database connection successful\")\n",
    "    except Error as err:\n",
    "        print(f\"Error: '{err}'\")\n",
    "\n",
    "    return connection"
   ]
  },
  {
   "cell_type": "code",
   "execution_count": 17,
   "metadata": {
    "id": "Tpu2_pj5-UeX"
   },
   "outputs": [],
   "source": [
    "def execute_query(connection, query):\n",
    "    cursor = connection.cursor()\n",
    "    try:\n",
    "        cursor.execute(query)\n",
    "        connection.commit()\n",
    "        print(\"Query successful\")\n",
    "    except Error as err:\n",
    "        print(f\"Error: '{err}'\")"
   ]
  },
  {
   "cell_type": "code",
   "execution_count": null,
   "metadata": {
    "colab": {
     "base_uri": "https://localhost:8080/",
     "height": 631
    },
    "id": "6V6KJHGgwzgq",
    "outputId": "b782835f-557f-4f89-aa94-210dff74c5d0"
   },
   "outputs": [],
   "source": [
    "# Assign our SQL command to a python variable using triple quotes to create a multi-line string\n",
    "\n",
    "drop_table= '''\n",
    "Drop table finalProject\n",
    "'''\n",
    "    \n",
    "    \n",
    "create_finalProject_table = \"\"\"\n",
    "CREATE TABLE if not exists finalProject (\n",
    "  Id INT PRIMARY KEY AUTO_INCREMENT,\n",
    "  Entity VARCHAR(32) NOT NULL,\n",
    "  Year INT NOT NULL,\n",
    "  Annual_CO₂_emissions float,\n",
    "  GDP_per_capita float,\n",
    "  Population float ,\n",
    "  per_gdp_CO2 float ,\n",
    "  Annual_nitrous_oxide_emissions float,\n",
    "Annual_methane_emissions float,\n",
    "per_capita_CO2 float,\n",
    "C02_emmissions_worldtotal float\n",
    ");\n",
    " \"\"\"\n",
    "\n",
    "connection = create_db_connection(\"localhost\", \"root\", pw, db) # Connect to the Database\n",
    "execute_query(connection, drop_table) # Execute our defined query\n",
    "execute_query(connection, create_finalProject_table) # Execute our defined query\n",
    "\n",
    "\n",
    "\n"
   ]
  },
  {
   "cell_type": "code",
   "execution_count": 18,
   "metadata": {
    "id": "XahDIlFTIapJ"
   },
   "outputs": [],
   "source": [
    "def execute_list_query(connection, sql, val):\n",
    "    cursor = connection.cursor()\n",
    "    try:\n",
    "        cursor.executemany(sql, val)\n",
    "        connection.commit()\n",
    "        print(\"Query successful\")\n",
    "    except Error as err:\n",
    "        print(f\"Error: '{err}'\")"
   ]
  },
  {
   "cell_type": "code",
   "execution_count": null,
   "metadata": {
    "id": "JXvpyAn6JJbm"
   },
   "outputs": [],
   "source": []
  },
  {
   "cell_type": "code",
   "execution_count": 46,
   "metadata": {
    "id": "w0cBKG1PocdH"
   },
   "outputs": [],
   "source": [
    "\n",
    "df_co2 = pd.read_csv(\"./CSV/annual-co2-emissions-per-country.csv\")\n",
    "df_pop = pd.read_csv('./CSV/population-and-demography.csv')\n",
    "df_gdp = pd.read_csv('./CSV/gdp-per-capita.csv')\n",
    "df_methane = pd.read_csv('./CSV/methane-emissions.csv')\n",
    "df_nitrous = pd.read_csv('./CSV/nitrous-oxide-emissions.csv')\n"
   ]
  },
  {
   "cell_type": "markdown",
   "metadata": {
    "id": "ZumecnGq5k7w"
   },
   "source": [
    "THIS IS THE MERGE PART "
   ]
  },
  {
   "cell_type": "code",
   "execution_count": null,
   "metadata": {
    "id": "IBRErOMrp4Jl"
   },
   "outputs": [],
   "source": []
  },
  {
   "cell_type": "code",
   "execution_count": null,
   "metadata": {
    "id": "KjbkA4S55O80"
   },
   "outputs": [],
   "source": []
  },
  {
   "cell_type": "code",
   "execution_count": 47,
   "metadata": {
    "colab": {
     "base_uri": "https://localhost:8080/",
     "height": 423
    },
    "id": "8zkEhZ0VpV-0",
    "outputId": "69b75850-b309-4451-f8ff-aede8370156c"
   },
   "outputs": [
    {
     "data": {
      "text/html": [
       "<div>\n",
       "<style scoped>\n",
       "    .dataframe tbody tr th:only-of-type {\n",
       "        vertical-align: middle;\n",
       "    }\n",
       "\n",
       "    .dataframe tbody tr th {\n",
       "        vertical-align: top;\n",
       "    }\n",
       "\n",
       "    .dataframe thead th {\n",
       "        text-align: right;\n",
       "    }\n",
       "</style>\n",
       "<table border=\"1\" class=\"dataframe\">\n",
       "  <thead>\n",
       "    <tr style=\"text-align: right;\">\n",
       "      <th></th>\n",
       "      <th>Entity</th>\n",
       "      <th>Year</th>\n",
       "      <th>Annual CO₂ emissions</th>\n",
       "    </tr>\n",
       "  </thead>\n",
       "  <tbody>\n",
       "    <tr>\n",
       "      <th>5320</th>\n",
       "      <td>Canada</td>\n",
       "      <td>1785</td>\n",
       "      <td>3.664000e+03</td>\n",
       "    </tr>\n",
       "    <tr>\n",
       "      <th>5321</th>\n",
       "      <td>Canada</td>\n",
       "      <td>1786</td>\n",
       "      <td>3.664000e+03</td>\n",
       "    </tr>\n",
       "    <tr>\n",
       "      <th>5322</th>\n",
       "      <td>Canada</td>\n",
       "      <td>1787</td>\n",
       "      <td>3.664000e+03</td>\n",
       "    </tr>\n",
       "    <tr>\n",
       "      <th>5323</th>\n",
       "      <td>Canada</td>\n",
       "      <td>1788</td>\n",
       "      <td>3.664000e+03</td>\n",
       "    </tr>\n",
       "    <tr>\n",
       "      <th>5324</th>\n",
       "      <td>Canada</td>\n",
       "      <td>1789</td>\n",
       "      <td>3.664000e+03</td>\n",
       "    </tr>\n",
       "    <tr>\n",
       "      <th>...</th>\n",
       "      <td>...</td>\n",
       "      <td>...</td>\n",
       "      <td>...</td>\n",
       "    </tr>\n",
       "    <tr>\n",
       "      <th>31081</th>\n",
       "      <td>World</td>\n",
       "      <td>2017</td>\n",
       "      <td>3.609674e+10</td>\n",
       "    </tr>\n",
       "    <tr>\n",
       "      <th>31082</th>\n",
       "      <td>World</td>\n",
       "      <td>2018</td>\n",
       "      <td>3.682651e+10</td>\n",
       "    </tr>\n",
       "    <tr>\n",
       "      <th>31083</th>\n",
       "      <td>World</td>\n",
       "      <td>2019</td>\n",
       "      <td>3.708256e+10</td>\n",
       "    </tr>\n",
       "    <tr>\n",
       "      <th>31084</th>\n",
       "      <td>World</td>\n",
       "      <td>2020</td>\n",
       "      <td>3.526409e+10</td>\n",
       "    </tr>\n",
       "    <tr>\n",
       "      <th>31085</th>\n",
       "      <td>World</td>\n",
       "      <td>2021</td>\n",
       "      <td>3.712385e+10</td>\n",
       "    </tr>\n",
       "  </tbody>\n",
       "</table>\n",
       "<p>1294 rows × 3 columns</p>\n",
       "</div>"
      ],
      "text/plain": [
       "       Entity  Year  Annual CO₂ emissions\n",
       "5320   Canada  1785          3.664000e+03\n",
       "5321   Canada  1786          3.664000e+03\n",
       "5322   Canada  1787          3.664000e+03\n",
       "5323   Canada  1788          3.664000e+03\n",
       "5324   Canada  1789          3.664000e+03\n",
       "...       ...   ...                   ...\n",
       "31081   World  2017          3.609674e+10\n",
       "31082   World  2018          3.682651e+10\n",
       "31083   World  2019          3.708256e+10\n",
       "31084   World  2020          3.526409e+10\n",
       "31085   World  2021          3.712385e+10\n",
       "\n",
       "[1294 rows x 3 columns]"
      ]
     },
     "execution_count": 47,
     "metadata": {},
     "output_type": "execute_result"
    }
   ],
   "source": [
    "\n",
    "#pd.set_option('display.max_rows', None)\n",
    "#pd.set_option('display.max_columns', None)\n",
    "\n",
    "\n",
    "pd.reset_option('display.max_rows')\n",
    "pd.reset_option('display.max_columns')\n",
    "\n",
    "countries_array = ['Russia', 'China', 'United States', 'United Kingdom','Canada', 'World']\n",
    "\n",
    "\n",
    "\n",
    "df_co2_noname = df_co2[['Entity','Year','Annual CO₂ emissions']] \n",
    "\n",
    "df_co2_final = df_co2_noname[(df_co2_noname['Entity'].isin(countries_array))]\n",
    "\n",
    "df_co2_final"
   ]
  },
  {
   "cell_type": "code",
   "execution_count": null,
   "metadata": {
    "colab": {
     "base_uri": "https://localhost:8080/",
     "height": 513
    },
    "id": "g_-MZR3KFd_m",
    "outputId": "898c2ef3-c3a4-44ec-ea23-e5c898b9b77b"
   },
   "outputs": [],
   "source": []
  },
  {
   "cell_type": "code",
   "execution_count": null,
   "metadata": {},
   "outputs": [],
   "source": []
  },
  {
   "cell_type": "code",
   "execution_count": 49,
   "metadata": {
    "colab": {
     "base_uri": "https://localhost:8080/",
     "height": 423
    },
    "id": "PBbMtxPge4b9",
    "outputId": "1e4789f8-2656-4323-b342-ad2362bc9da4"
   },
   "outputs": [
    {
     "data": {
      "text/html": [
       "<div>\n",
       "<style scoped>\n",
       "    .dataframe tbody tr th:only-of-type {\n",
       "        vertical-align: middle;\n",
       "    }\n",
       "\n",
       "    .dataframe tbody tr th {\n",
       "        vertical-align: top;\n",
       "    }\n",
       "\n",
       "    .dataframe thead th {\n",
       "        text-align: right;\n",
       "    }\n",
       "</style>\n",
       "<table border=\"1\" class=\"dataframe\">\n",
       "  <thead>\n",
       "    <tr style=\"text-align: right;\">\n",
       "      <th></th>\n",
       "      <th>Entity</th>\n",
       "      <th>Year</th>\n",
       "      <th>Annual methane emissions</th>\n",
       "    </tr>\n",
       "  </thead>\n",
       "  <tbody>\n",
       "    <tr>\n",
       "      <th>5814</th>\n",
       "      <td>Canada</td>\n",
       "      <td>1851</td>\n",
       "      <td>9.772536e+06</td>\n",
       "    </tr>\n",
       "    <tr>\n",
       "      <th>5815</th>\n",
       "      <td>Canada</td>\n",
       "      <td>1852</td>\n",
       "      <td>9.972014e+06</td>\n",
       "    </tr>\n",
       "    <tr>\n",
       "      <th>5816</th>\n",
       "      <td>Canada</td>\n",
       "      <td>1853</td>\n",
       "      <td>1.034139e+07</td>\n",
       "    </tr>\n",
       "    <tr>\n",
       "      <th>5817</th>\n",
       "      <td>Canada</td>\n",
       "      <td>1854</td>\n",
       "      <td>1.071860e+07</td>\n",
       "    </tr>\n",
       "    <tr>\n",
       "      <th>5818</th>\n",
       "      <td>Canada</td>\n",
       "      <td>1855</td>\n",
       "      <td>1.110386e+07</td>\n",
       "    </tr>\n",
       "    <tr>\n",
       "      <th>...</th>\n",
       "      <td>...</td>\n",
       "      <td>...</td>\n",
       "      <td>...</td>\n",
       "    </tr>\n",
       "    <tr>\n",
       "      <th>34708</th>\n",
       "      <td>World</td>\n",
       "      <td>2017</td>\n",
       "      <td>1.012901e+10</td>\n",
       "    </tr>\n",
       "    <tr>\n",
       "      <th>34709</th>\n",
       "      <td>World</td>\n",
       "      <td>2018</td>\n",
       "      <td>1.021516e+10</td>\n",
       "    </tr>\n",
       "    <tr>\n",
       "      <th>34710</th>\n",
       "      <td>World</td>\n",
       "      <td>2019</td>\n",
       "      <td>1.032124e+10</td>\n",
       "    </tr>\n",
       "    <tr>\n",
       "      <th>34711</th>\n",
       "      <td>World</td>\n",
       "      <td>2020</td>\n",
       "      <td>1.037299e+10</td>\n",
       "    </tr>\n",
       "    <tr>\n",
       "      <th>34712</th>\n",
       "      <td>World</td>\n",
       "      <td>2021</td>\n",
       "      <td>1.050691e+10</td>\n",
       "    </tr>\n",
       "  </tbody>\n",
       "</table>\n",
       "<p>1026 rows × 3 columns</p>\n",
       "</div>"
      ],
      "text/plain": [
       "       Entity  Year  Annual methane emissions\n",
       "5814   Canada  1851              9.772536e+06\n",
       "5815   Canada  1852              9.972014e+06\n",
       "5816   Canada  1853              1.034139e+07\n",
       "5817   Canada  1854              1.071860e+07\n",
       "5818   Canada  1855              1.110386e+07\n",
       "...       ...   ...                       ...\n",
       "34708   World  2017              1.012901e+10\n",
       "34709   World  2018              1.021516e+10\n",
       "34710   World  2019              1.032124e+10\n",
       "34711   World  2020              1.037299e+10\n",
       "34712   World  2021              1.050691e+10\n",
       "\n",
       "[1026 rows x 3 columns]"
      ]
     },
     "execution_count": 49,
     "metadata": {},
     "output_type": "execute_result"
    }
   ],
   "source": [
    "\n",
    "#df_methane = pd.read_csv(df_methane)\n",
    "\n",
    "df_methane_noname = df_methane[['Entity','Year','Annual methane emissions']] \n",
    "\n",
    "df_methane_final = df_methane_noname[(df_methane_noname['Entity'].isin(countries_array))]\n",
    "\n",
    "df_methane_final"
   ]
  },
  {
   "cell_type": "code",
   "execution_count": null,
   "metadata": {
    "colab": {
     "base_uri": "https://localhost:8080/",
     "height": 367
    },
    "id": "BsVMpDGajby9",
    "outputId": "fe9e74ed-6dcf-49ea-e52e-38571e295595"
   },
   "outputs": [],
   "source": []
  },
  {
   "cell_type": "code",
   "execution_count": 50,
   "metadata": {
    "colab": {
     "base_uri": "https://localhost:8080/",
     "height": 423
    },
    "id": "tQdAXKUolGoO",
    "outputId": "f901e5c8-069f-4d6e-e03f-718978fc177e"
   },
   "outputs": [
    {
     "data": {
      "text/html": [
       "<div>\n",
       "<style scoped>\n",
       "    .dataframe tbody tr th:only-of-type {\n",
       "        vertical-align: middle;\n",
       "    }\n",
       "\n",
       "    .dataframe tbody tr th {\n",
       "        vertical-align: top;\n",
       "    }\n",
       "\n",
       "    .dataframe thead th {\n",
       "        text-align: right;\n",
       "    }\n",
       "</style>\n",
       "<table border=\"1\" class=\"dataframe\">\n",
       "  <thead>\n",
       "    <tr style=\"text-align: right;\">\n",
       "      <th></th>\n",
       "      <th>Entity</th>\n",
       "      <th>Year</th>\n",
       "      <th>Annual nitrous oxide emissions</th>\n",
       "    </tr>\n",
       "  </thead>\n",
       "  <tbody>\n",
       "    <tr>\n",
       "      <th>5985</th>\n",
       "      <td>Canada</td>\n",
       "      <td>1851</td>\n",
       "      <td>3.138664e+06</td>\n",
       "    </tr>\n",
       "    <tr>\n",
       "      <th>5986</th>\n",
       "      <td>Canada</td>\n",
       "      <td>1852</td>\n",
       "      <td>3.190522e+06</td>\n",
       "    </tr>\n",
       "    <tr>\n",
       "      <th>5987</th>\n",
       "      <td>Canada</td>\n",
       "      <td>1853</td>\n",
       "      <td>3.240610e+06</td>\n",
       "    </tr>\n",
       "    <tr>\n",
       "      <th>5988</th>\n",
       "      <td>Canada</td>\n",
       "      <td>1854</td>\n",
       "      <td>3.288250e+06</td>\n",
       "    </tr>\n",
       "    <tr>\n",
       "      <th>5989</th>\n",
       "      <td>Canada</td>\n",
       "      <td>1855</td>\n",
       "      <td>3.332765e+06</td>\n",
       "    </tr>\n",
       "    <tr>\n",
       "      <th>...</th>\n",
       "      <td>...</td>\n",
       "      <td>...</td>\n",
       "      <td>...</td>\n",
       "    </tr>\n",
       "    <tr>\n",
       "      <th>35050</th>\n",
       "      <td>World</td>\n",
       "      <td>2017</td>\n",
       "      <td>2.875266e+09</td>\n",
       "    </tr>\n",
       "    <tr>\n",
       "      <th>35051</th>\n",
       "      <td>World</td>\n",
       "      <td>2018</td>\n",
       "      <td>2.870180e+09</td>\n",
       "    </tr>\n",
       "    <tr>\n",
       "      <th>35052</th>\n",
       "      <td>World</td>\n",
       "      <td>2019</td>\n",
       "      <td>2.885550e+09</td>\n",
       "    </tr>\n",
       "    <tr>\n",
       "      <th>35053</th>\n",
       "      <td>World</td>\n",
       "      <td>2020</td>\n",
       "      <td>2.917279e+09</td>\n",
       "    </tr>\n",
       "    <tr>\n",
       "      <th>35054</th>\n",
       "      <td>World</td>\n",
       "      <td>2021</td>\n",
       "      <td>2.968141e+09</td>\n",
       "    </tr>\n",
       "  </tbody>\n",
       "</table>\n",
       "<p>1026 rows × 3 columns</p>\n",
       "</div>"
      ],
      "text/plain": [
       "       Entity  Year  Annual nitrous oxide emissions\n",
       "5985   Canada  1851                    3.138664e+06\n",
       "5986   Canada  1852                    3.190522e+06\n",
       "5987   Canada  1853                    3.240610e+06\n",
       "5988   Canada  1854                    3.288250e+06\n",
       "5989   Canada  1855                    3.332765e+06\n",
       "...       ...   ...                             ...\n",
       "35050   World  2017                    2.875266e+09\n",
       "35051   World  2018                    2.870180e+09\n",
       "35052   World  2019                    2.885550e+09\n",
       "35053   World  2020                    2.917279e+09\n",
       "35054   World  2021                    2.968141e+09\n",
       "\n",
       "[1026 rows x 3 columns]"
      ]
     },
     "execution_count": 50,
     "metadata": {},
     "output_type": "execute_result"
    }
   ],
   "source": [
    "#df_nitrous = pd.read_csv(nitrous_path)\n",
    "\n",
    "df_nitrous_noname = df_nitrous[['Entity','Year','Annual nitrous oxide emissions']] \n",
    "\n",
    "df_nitrous_final = df_nitrous_noname[(df_nitrous_noname['Entity'].isin(countries_array))]\n",
    "\n",
    "df_nitrous_final"
   ]
  },
  {
   "cell_type": "code",
   "execution_count": null,
   "metadata": {
    "colab": {
     "base_uri": "https://localhost:8080/",
     "height": 367
    },
    "id": "1t-4fN8TlHK-",
    "outputId": "3473b88c-9a4f-4e04-dc51-e32c1433c35e"
   },
   "outputs": [],
   "source": []
  },
  {
   "cell_type": "code",
   "execution_count": 51,
   "metadata": {
    "colab": {
     "base_uri": "https://localhost:8080/",
     "height": 502
    },
    "id": "GMjOovf47es4",
    "outputId": "b3ee58f1-a631-4526-e424-6effc207f4cc"
   },
   "outputs": [
    {
     "data": {
      "text/html": [
       "<div>\n",
       "<style scoped>\n",
       "    .dataframe tbody tr th:only-of-type {\n",
       "        vertical-align: middle;\n",
       "    }\n",
       "\n",
       "    .dataframe tbody tr th {\n",
       "        vertical-align: top;\n",
       "    }\n",
       "\n",
       "    .dataframe thead th {\n",
       "        text-align: right;\n",
       "    }\n",
       "</style>\n",
       "<table border=\"1\" class=\"dataframe\">\n",
       "  <thead>\n",
       "    <tr style=\"text-align: right;\">\n",
       "      <th></th>\n",
       "      <th>Entity</th>\n",
       "      <th>Year</th>\n",
       "      <th>Annual CO₂ emissions</th>\n",
       "      <th>GDP per capita</th>\n",
       "      <th>Population</th>\n",
       "      <th>per_capita_CO2</th>\n",
       "      <th>per_gdp_CO2</th>\n",
       "      <th>Annual nitrous oxide emissions</th>\n",
       "      <th>Annual methane emissions</th>\n",
       "      <th>CO₂ emissions %</th>\n",
       "    </tr>\n",
       "  </thead>\n",
       "  <tbody>\n",
       "    <tr>\n",
       "      <th>0</th>\n",
       "      <td>Canada</td>\n",
       "      <td>1950</td>\n",
       "      <td>1.541338e+08</td>\n",
       "      <td>11622.000</td>\n",
       "      <td>13743068</td>\n",
       "      <td>11.215382</td>\n",
       "      <td>0.965013</td>\n",
       "      <td>1.650352e+07</td>\n",
       "      <td>4.749925e+07</td>\n",
       "      <td>2.567496</td>\n",
       "    </tr>\n",
       "    <tr>\n",
       "      <th>1</th>\n",
       "      <td>Canada</td>\n",
       "      <td>1951</td>\n",
       "      <td>1.626780e+08</td>\n",
       "      <td>12007.000</td>\n",
       "      <td>14085723</td>\n",
       "      <td>11.549143</td>\n",
       "      <td>0.961867</td>\n",
       "      <td>1.676840e+07</td>\n",
       "      <td>4.916457e+07</td>\n",
       "      <td>2.549894</td>\n",
       "    </tr>\n",
       "    <tr>\n",
       "      <th>2</th>\n",
       "      <td>Canada</td>\n",
       "      <td>1952</td>\n",
       "      <td>1.594088e+08</td>\n",
       "      <td>12486.000</td>\n",
       "      <td>14485746</td>\n",
       "      <td>11.004525</td>\n",
       "      <td>0.881349</td>\n",
       "      <td>1.708863e+07</td>\n",
       "      <td>5.007333e+07</td>\n",
       "      <td>2.465442</td>\n",
       "    </tr>\n",
       "    <tr>\n",
       "      <th>3</th>\n",
       "      <td>Canada</td>\n",
       "      <td>1953</td>\n",
       "      <td>1.606082e+08</td>\n",
       "      <td>12726.000</td>\n",
       "      <td>14901533</td>\n",
       "      <td>10.777964</td>\n",
       "      <td>0.846925</td>\n",
       "      <td>1.745643e+07</td>\n",
       "      <td>5.130872e+07</td>\n",
       "      <td>2.415973</td>\n",
       "    </tr>\n",
       "    <tr>\n",
       "      <th>4</th>\n",
       "      <td>Canada</td>\n",
       "      <td>1954</td>\n",
       "      <td>1.629677e+08</td>\n",
       "      <td>12272.000</td>\n",
       "      <td>15323199</td>\n",
       "      <td>10.635355</td>\n",
       "      <td>0.866636</td>\n",
       "      <td>1.786397e+07</td>\n",
       "      <td>5.273654e+07</td>\n",
       "      <td>2.400124</td>\n",
       "    </tr>\n",
       "    <tr>\n",
       "      <th>...</th>\n",
       "      <td>...</td>\n",
       "      <td>...</td>\n",
       "      <td>...</td>\n",
       "      <td>...</td>\n",
       "      <td>...</td>\n",
       "      <td>...</td>\n",
       "      <td>...</td>\n",
       "      <td>...</td>\n",
       "      <td>...</td>\n",
       "      <td>...</td>\n",
       "    </tr>\n",
       "    <tr>\n",
       "      <th>340</th>\n",
       "      <td>World</td>\n",
       "      <td>2000</td>\n",
       "      <td>2.545362e+10</td>\n",
       "      <td>9914.567</td>\n",
       "      <td>6148899000</td>\n",
       "      <td>4.139542</td>\n",
       "      <td>0.417521</td>\n",
       "      <td>2.393431e+09</td>\n",
       "      <td>8.400780e+09</td>\n",
       "      <td>100.000000</td>\n",
       "    </tr>\n",
       "    <tr>\n",
       "      <th>341</th>\n",
       "      <td>World</td>\n",
       "      <td>2010</td>\n",
       "      <td>3.336435e+10</td>\n",
       "      <td>13179.495</td>\n",
       "      <td>6985603000</td>\n",
       "      <td>4.776158</td>\n",
       "      <td>0.362393</td>\n",
       "      <td>2.641035e+09</td>\n",
       "      <td>9.454867e+09</td>\n",
       "      <td>100.000000</td>\n",
       "    </tr>\n",
       "    <tr>\n",
       "      <th>342</th>\n",
       "      <td>World</td>\n",
       "      <td>2016</td>\n",
       "      <td>3.552419e+10</td>\n",
       "      <td>14700.372</td>\n",
       "      <td>7513474000</td>\n",
       "      <td>4.728065</td>\n",
       "      <td>0.321629</td>\n",
       "      <td>2.822356e+09</td>\n",
       "      <td>9.974606e+09</td>\n",
       "      <td>100.000000</td>\n",
       "    </tr>\n",
       "    <tr>\n",
       "      <th>343</th>\n",
       "      <td>World</td>\n",
       "      <td>2017</td>\n",
       "      <td>3.609674e+10</td>\n",
       "      <td>14944.094</td>\n",
       "      <td>7599822300</td>\n",
       "      <td>4.749682</td>\n",
       "      <td>0.317830</td>\n",
       "      <td>2.875266e+09</td>\n",
       "      <td>1.012901e+10</td>\n",
       "      <td>100.000000</td>\n",
       "    </tr>\n",
       "    <tr>\n",
       "      <th>344</th>\n",
       "      <td>World</td>\n",
       "      <td>2018</td>\n",
       "      <td>3.682651e+10</td>\n",
       "      <td>15212.415</td>\n",
       "      <td>7683790000</td>\n",
       "      <td>4.792753</td>\n",
       "      <td>0.315055</td>\n",
       "      <td>2.870180e+09</td>\n",
       "      <td>1.021516e+10</td>\n",
       "      <td>100.000000</td>\n",
       "    </tr>\n",
       "  </tbody>\n",
       "</table>\n",
       "<p>345 rows × 10 columns</p>\n",
       "</div>"
      ],
      "text/plain": [
       "     Entity  Year  Annual CO₂ emissions  GDP per capita  Population  \\\n",
       "0    Canada  1950          1.541338e+08       11622.000    13743068   \n",
       "1    Canada  1951          1.626780e+08       12007.000    14085723   \n",
       "2    Canada  1952          1.594088e+08       12486.000    14485746   \n",
       "3    Canada  1953          1.606082e+08       12726.000    14901533   \n",
       "4    Canada  1954          1.629677e+08       12272.000    15323199   \n",
       "..      ...   ...                   ...             ...         ...   \n",
       "340   World  2000          2.545362e+10        9914.567  6148899000   \n",
       "341   World  2010          3.336435e+10       13179.495  6985603000   \n",
       "342   World  2016          3.552419e+10       14700.372  7513474000   \n",
       "343   World  2017          3.609674e+10       14944.094  7599822300   \n",
       "344   World  2018          3.682651e+10       15212.415  7683790000   \n",
       "\n",
       "     per_capita_CO2  per_gdp_CO2  Annual nitrous oxide emissions  \\\n",
       "0         11.215382     0.965013                    1.650352e+07   \n",
       "1         11.549143     0.961867                    1.676840e+07   \n",
       "2         11.004525     0.881349                    1.708863e+07   \n",
       "3         10.777964     0.846925                    1.745643e+07   \n",
       "4         10.635355     0.866636                    1.786397e+07   \n",
       "..              ...          ...                             ...   \n",
       "340        4.139542     0.417521                    2.393431e+09   \n",
       "341        4.776158     0.362393                    2.641035e+09   \n",
       "342        4.728065     0.321629                    2.822356e+09   \n",
       "343        4.749682     0.317830                    2.875266e+09   \n",
       "344        4.792753     0.315055                    2.870180e+09   \n",
       "\n",
       "     Annual methane emissions  CO₂ emissions %  \n",
       "0                4.749925e+07         2.567496  \n",
       "1                4.916457e+07         2.549894  \n",
       "2                5.007333e+07         2.465442  \n",
       "3                5.130872e+07         2.415973  \n",
       "4                5.273654e+07         2.400124  \n",
       "..                        ...              ...  \n",
       "340              8.400780e+09       100.000000  \n",
       "341              9.454867e+09       100.000000  \n",
       "342              9.974606e+09       100.000000  \n",
       "343              1.012901e+10       100.000000  \n",
       "344              1.021516e+10       100.000000  \n",
       "\n",
       "[345 rows x 10 columns]"
      ]
     },
     "execution_count": 51,
     "metadata": {},
     "output_type": "execute_result"
    }
   ],
   "source": [
    "df_pop2 = df_pop[[\"Country name\", \"Year\", \"Population\"]]\n",
    "#print(df_pop2)\n",
    "\n",
    "df_pop3 = pd.merge(\n",
    "\n",
    "    left = df_co2,\n",
    "    right = df_gdp,\n",
    "    left_on = [\"Entity\",\"Year\"],\n",
    "    right_on = [\"Entity\",\"Year\"]\n",
    "\n",
    ")\n",
    "\n",
    "df_pop3 = pd.merge(\n",
    "\n",
    "    left = df_pop3,\n",
    "    right = df_pop,\n",
    "    left_on = [\"Entity\",\"Year\"],\n",
    "    right_on = [\"Country name\",\"Year\"]\n",
    "\n",
    ")\n",
    "\n",
    "df_pop2 = pd.merge(\n",
    "\n",
    "    left = df_co2,\n",
    "    right = df_pop,\n",
    "    left_on = [\"Entity\",\"Year\"],\n",
    "    right_on = [\"Country name\",\"Year\"]\n",
    "\n",
    ")\n",
    "\n",
    "\n",
    "\n",
    "\n",
    "df_pop3[\"per_capita_CO2\"] = df_pop3[\"Annual CO₂ emissions\"]/df_pop3[\"Population\"]\n",
    "df_pop3[\"per_gdp_CO2\"] = df_pop3[\"Annual CO₂ emissions\"]*1000/(df_pop3[\"GDP per capita\"]*df_pop3[\"Population\"])\n",
    "\n",
    "#print(df_pop2)\n",
    "# Filter the df_pop2 dataframe to contain only the 'World' rows\n",
    "df_world = df_pop2[df_pop2['Entity'] == 'World'][['Year', 'Annual CO₂ emissions']]\n",
    "#print(df_world)\n",
    "# Merge the filtered dataframe with the original dataframe on the 'Year' column\n",
    "df_pop2 = pd.merge(df_pop2, df_world, on='Year', how='left', suffixes=('', '_world'))\n",
    "#print(df_pop2)\n",
    "# Calculate the percentage of global CO2 emissions for each country and year\n",
    "df_pop2['CO₂ emissions %'] = df_pop2['Annual CO₂ emissions'] / df_pop2['Annual CO₂ emissions_world'] * 100\n",
    "#print(df_pop2)\n",
    "# Drop the redundant 'Annual CO₂ emissions_world' column\n",
    "df_pop2 = df_pop2.drop('Annual CO₂ emissions_world', axis=1)\n",
    "\n",
    "\n",
    "\n",
    "df_pop2_final = df_pop2[(df_pop2['Entity'].isin(countries_array))]\n",
    "#df_country_final = df_country[(df_country['Entity'].isin(countries_array))]\n",
    "#df_pop2_final\n",
    "\n",
    "df_pop3_final = df_pop3[(df_pop3['Entity'].isin(countries_array))]\n",
    "#from google.colab import files\n",
    "#df_pop3_final.to_csv('output.csv', encoding = 'utf-8-sig') \n",
    "#@#files.download('output.csv')\n",
    "df_pop3_final = df_pop3_final.drop(columns = ['Code_x', 'Code_y', '417485-annotations', 'Country name', 'Population of children under the age of 1', 'Population aged 20 to 29 years'\t,'Population aged 30 to 39 years'\t,'Population aged 40 to 49 years',\t'Population aged 50 to 59 years',\t'Population aged 60 to 69 years',\t'Population aged 70 to 79 years',\t'Population aged 80 to 89 years',\t'Population aged 90 to 99 years'\t,'Population older than 100 years' ])\n",
    "df_pop3_final = df_pop3_final.drop(columns=['Population of children under the age of 5','Population of children under the age of 15','Population under the age of 25','Population aged 15 to 64 years','Population older than 15 years','Population older than 18 years','Population at age 1','Population aged 1 to 4 years','Population aged 5 to 9 years','Population aged 10 to 14 years','Population aged 15 to 19 years'])\n",
    "df_pop2_final = df_pop2_final.drop(columns = [ 'Country name', 'Population of children under the age of 1', 'Population aged 20 to 29 years'\t,'Population aged 30 to 39 years'\t,'Population aged 40 to 49 years',\t'Population aged 50 to 59 years',\t'Population aged 60 to 69 years',\t'Population aged 70 to 79 years',\t'Population aged 80 to 89 years',\t'Population aged 90 to 99 years'\t,'Population older than 100 years' ])\n",
    "df_pop2_final = df_pop2_final.drop(columns=['Population of children under the age of 5','Population of children under the age of 15','Population under the age of 25','Population aged 15 to 64 years','Population older than 15 years','Population older than 18 years','Population at age 1','Population aged 1 to 4 years','Population aged 5 to 9 years','Population aged 10 to 14 years','Population aged 15 to 19 years'])\n",
    "df_pop2_final = df_pop2_final.drop(columns=['Code','Annual CO₂ emissions','Population'])\n",
    "\n",
    "df_pop3_final = pd.merge(\n",
    "    left = df_pop3_final,\n",
    "    right = df_nitrous_final,\n",
    "    left_on = [\"Entity\",\"Year\"],\n",
    "    right_on = [\"Entity\",\"Year\"]\n",
    ")\n",
    "df_pop3_final = pd.merge(\n",
    "    \n",
    " left = df_pop3_final,\n",
    "    right = df_methane_final,\n",
    "    left_on = [\"Entity\",\"Year\"],\n",
    "    right_on = [\"Entity\",\"Year\"]\n",
    "\n",
    ")\n",
    "df_pop3_final = pd.merge(\n",
    "    \n",
    " left = df_pop3_final,\n",
    "    right = df_pop2_final,\n",
    "    left_on = [\"Entity\",\"Year\"],\n",
    "    right_on = [\"Entity\",\"Year\"]\n",
    "\n",
    ")\n",
    "\n",
    "df_pop3_final\n"
   ]
  },
  {
   "cell_type": "code",
   "execution_count": null,
   "metadata": {},
   "outputs": [],
   "source": [
    "sql1 = '''\n",
    "   INSERT INTO finalProject (Entity, Year, Annual_CO₂_emissions, per_capita_CO2 , GDP_per_capita, Population, per_gdp_CO2, Annual_nitrous_oxide_emissions , Annual_methane_emissions, \n",
    "C02_emmissions_worldtotal)\n",
    "    VALUES ( %s, %s, %s, %s, %s, %s, %s, %s,%s,%s)\n",
    "  '''\n",
    "\n",
    "val1 = df_pop3_final.values.tolist()\n",
    "#print(val1)\n",
    "connection = create_db_connection(\"localhost\", \"root\", pw, db)\n",
    "execute_list_query(connection, sql1, val1)"
   ]
  },
  {
   "cell_type": "code",
   "execution_count": null,
   "metadata": {
    "colab": {
     "base_uri": "https://localhost:8080/",
     "height": 358
    },
    "id": "3LuZZ0Mf9ZkK",
    "outputId": "a128c080-175a-43db-bef2-cd720dc6245f"
   },
   "outputs": [],
   "source": [
    "# Creating Graph for comparing Canada All and Canada - Factory\n",
    "# df_canada_vs_canada_no_factory\n",
    "plt.style.use('default')\n",
    "\n",
    "with plt.style.context('Solarize_Light2'):\n",
    "\n",
    "\n",
    "  fig,axs = plt.subplots(figsize=(10,5))\n",
    "\n",
    "  #plt.xticks(range(1750,2021), range(1750,2021))\n",
    "\n",
    "  co2_per_capita = sns.lineplot(\n",
    "      data=df_pop2_final,\n",
    "      x='Year',\n",
    "      y='per_capita_CO2',\n",
    "      hue='Entity'\n",
    "  )\n",
    "  co2_per_capita.set(\n",
    "      xlabel='Date',\n",
    "      ylabel='Kilotonnes of CO₂',\n",
    "      ylim=(0,None),\n",
    "      title='''CO₂ Emissions per capita from 'countries_array' per year (1950 - 2020)'''\n",
    "  )\n",
    "\n",
    "  plt.legend(bbox_to_anchor=(1.05, 1), loc='upper left', borderaxespad=0, title=\"\")\n",
    "  #plt.legend(title='')"
   ]
  },
  {
   "cell_type": "code",
   "execution_count": null,
   "metadata": {
    "colab": {
     "base_uri": "https://localhost:8080/",
     "height": 353
    },
    "id": "kRbXMt7_lfA2",
    "outputId": "3179aa4b-f8fd-44e8-839a-006ed0bc2e6a"
   },
   "outputs": [],
   "source": [
    "# Creating Graph for comparing Canada All and Canada - Factory\n",
    "# df_canada_vs_canada_no_factory\n",
    "plt.style.use('default')\n",
    "\n",
    "with plt.style.context('Solarize_Light2'):\n",
    "\n",
    "\n",
    "  fig,axs = plt.subplots(figsize=(10,5))\n",
    "\n",
    "  #plt.xticks(range(1750,2021), range(1750,2021))\n",
    "\n",
    "  co2_per_capita = sns.lineplot(\n",
    "      data=df_pop2_final,\n",
    "      x='Year',\n",
    "      y='CO₂ emissions %',\n",
    "      hue='Entity'\n",
    "  )\n",
    "  co2_per_capita.set(\n",
    "      xlabel='Date',\n",
    "      ylabel='Kilotonnes of CO₂',\n",
    "      ylim=(0,None),\n",
    "      title='''CO₂ Emissions compared worldwide from 'countries_array' per year (1950 - 2020)'''\n",
    "  )\n",
    "\n",
    "  plt.legend(bbox_to_anchor=(1.05, 1), loc='upper left', borderaxespad=0, title=\"\")\n",
    "  \n",
    "  plt.savefig('co2_emission_gdp.png', bbox_inches='tight')\n",
    "  #files.download('co2_emission_gdp.png')\n",
    "  #plt.legend(title='')"
   ]
  },
  {
   "cell_type": "code",
   "execution_count": null,
   "metadata": {
    "colab": {
     "base_uri": "https://localhost:8080/",
     "height": 353
    },
    "id": "Ao2YjA0HqTD5",
    "outputId": "6369967e-636c-4d86-e25b-51ff5018ee66"
   },
   "outputs": [],
   "source": [
    "# Creating Graph for comparing Canada All and Canada - Factory\n",
    "# df_canada_vs_canada_no_factory\n",
    "plt.style.use('default')\n",
    "\n",
    "with plt.style.context('Solarize_Light2'):\n",
    "\n",
    "\n",
    "  fig,axs = plt.subplots(figsize=(10,5))\n",
    "\n",
    "  #plt.xticks(range(1750,2021), range(1750,2021))\n",
    "\n",
    "  co2_per_capita = sns.lineplot(\n",
    "      data=df_pop3_final,\n",
    "      x='Year',\n",
    "      y='per_gdp_CO2',\n",
    "      hue='Entity'\n",
    "  )\n",
    "  co2_per_capita.set(\n",
    "      xlabel='Date',\n",
    "      ylabel='Kilotonnes of CO₂',\n",
    "      ylim=(0,None),\n",
    "      title='''CO₂ Emissions compared worldwide from 'countries_array' per year (1950 - 2020)'''\n",
    "  )\n",
    "\n",
    "  plt.legend(bbox_to_anchor=(1.05, 1), loc='upper left', borderaxespad=0, title=\"\")\n",
    "  #plt.legend(title='')\n",
    "\n",
    "#plt.savefig('co2_emission_gdp.png', bbox_inches='tight')\n",
    "#files.download('co2_emission_gdp.png')\n",
    " "
   ]
  },
  {
   "cell_type": "markdown",
   "metadata": {
    "id": "b053uVaLoiBg"
   },
   "source": [
    "# New Section"
   ]
  },
  {
   "cell_type": "code",
   "execution_count": null,
   "metadata": {},
   "outputs": [],
   "source": []
  },
  {
   "cell_type": "code",
   "execution_count": null,
   "metadata": {
    "id": "YRw_WF5xsGXk"
   },
   "outputs": [],
   "source": []
  },
  {
   "cell_type": "code",
   "execution_count": null,
   "metadata": {},
   "outputs": [],
   "source": [
    "def read_query(connection, query):\n",
    "    cursor = connection.cursor()\n",
    "    result = None\n",
    "    try:\n",
    "        cursor.execute(query)\n",
    "        result = cursor.fetchall()\n",
    "        return result\n",
    "    except Error as err:\n",
    "        print(f\"Error: '{err}'\")"
   ]
  },
  {
   "cell_type": "code",
   "execution_count": null,
   "metadata": {},
   "outputs": [],
   "source": [
    "firstQuery ='''SELECT ENTITY, Annual_CO₂_emissions, Year from finalProject;'''\n",
    "connection = create_db_connection(\"localhost\", \"root\", pw, db)\n",
    "df_co2_graph = read_query(connection, firstQuery)"
   ]
  },
  {
   "cell_type": "code",
   "execution_count": null,
   "metadata": {},
   "outputs": [],
   "source": [
    "df_co2_graph"
   ]
  },
  {
   "cell_type": "code",
   "execution_count": null,
   "metadata": {},
   "outputs": [],
   "source": [
    "result = df_co2_graph.concat(df_list, axis=1)"
   ]
  },
  {
   "cell_type": "code",
   "execution_count": null,
   "metadata": {},
   "outputs": [],
   "source": []
  },
  {
   "cell_type": "code",
   "execution_count": null,
   "metadata": {},
   "outputs": [],
   "source": []
  },
  {
   "cell_type": "code",
   "execution_count": null,
   "metadata": {},
   "outputs": [],
   "source": []
  },
  {
   "cell_type": "code",
   "execution_count": null,
   "metadata": {},
   "outputs": [],
   "source": []
  },
  {
   "cell_type": "code",
   "execution_count": null,
   "metadata": {},
   "outputs": [],
   "source": [
    "def read_query(connection, query):\n",
    "    cursor = connection.cursor()\n",
    "    result = None\n",
    "    try:\n",
    "        cursor.execute(query)\n",
    "        result = cursor.fetchall()\n",
    "        return result\n",
    "    except Error as err:\n",
    "        print(f\"Error: '{err}'\")"
   ]
  },
  {
   "cell_type": "code",
   "execution_count": null,
   "metadata": {},
   "outputs": [],
   "source": [
    "co2Query = '''\n",
    "    SELECT Entity,\n",
    "    Annual_CO₂_emissions,\n",
    "    Year\n",
    "    FROM finalProject\n",
    "'''\n",
    "connection = create_db_connection(\"localhost\", \"root\", pw, db)\n",
    "co2_data = read_query(connection, co2Query)\n",
    "\n",
    "# Create a pandas DataFrame from the list\n",
    "df_co2_final = pd.DataFrame(co2_data, columns=['Entity', 'Annual CO₂ emissions', 'Year'])"
   ]
  },
  {
   "cell_type": "code",
   "execution_count": null,
   "metadata": {},
   "outputs": [],
   "source": [
    "import matplotlib.ticker as ticker\n",
    "\n",
    "# Creating Graph for comparing Canada All and Canada - Factory\n",
    "# df_canada_vs_canada_no_factory\n",
    "plt.style.use('default')\n",
    "\n",
    "with plt.style.context('Solarize_Light2'):\n",
    "\n",
    "\n",
    "    fig,axs = plt.subplots(figsize=(10,5))\n",
    "\n",
    "    #plt.xticks(range(1750,2021), range(1750,2021))\n",
    "\n",
    "    axs.yaxis.set_major_formatter(ticker.FuncFormatter(lambda x, pos: f'{x / 10**9:.0f}'))\n",
    "\n",
    "    co2_country = sns.lineplot(\n",
    "        data=df_co2_final,\n",
    "        x='Year',\n",
    "        y='Annual CO₂ emissions',\n",
    "        hue='Entity'\n",
    "    )\n",
    "\n",
    "    co2_country.set(\n",
    "        xlabel='Date',\n",
    "        ylabel='Billion Tonnes of CO₂',\n",
    "        ylim=(0,None),\n",
    "        title='''CO₂ Emissions by Country per Year (1950 - 2018)'''\n",
    "    )\n",
    "    axs.set_xlim(df_co2_final['Year'].min(), df_co2_final['Year'].max())\n",
    "    \n",
    "    plt.xticks(range(1950, 2018, 5), range(1950, 2018, 5))\n",
    "\n",
    "    plt.legend(bbox_to_anchor=(1.05, 1), loc='upper left', borderaxespad=0, title=\"\")\n",
    "    #plt.legend(title='')\n",
    "    \n",
    "#plt.show()"
   ]
  },
  {
   "cell_type": "code",
   "execution_count": null,
   "metadata": {},
   "outputs": [],
   "source": [
    "methaneQuery = '''\n",
    "    SELECT Entity,\n",
    "    Annual_methane_emissions,\n",
    "    Year\n",
    "    FROM finalProject\n",
    "'''\n",
    "connection = create_db_connection(\"localhost\", \"root\", pw, db)\n",
    "methane_data = read_query(connection, methaneQuery)\n",
    "\n",
    "# Create a pandas DataFrame from the list\n",
    "df_methane_final = pd.DataFrame(methane_data, columns=['Entity', 'Annual methane emissions', 'Year'])"
   ]
  },
  {
   "cell_type": "code",
   "execution_count": null,
   "metadata": {},
   "outputs": [],
   "source": [
    "import matplotlib.ticker as ticker\n",
    "\n",
    "# Creating Graph for comparing Canada All and Canada - Factory\n",
    "# df_canada_vs_canada_no_factory\n",
    "plt.style.use('default')\n",
    "\n",
    "with plt.style.context('Solarize_Light2'):\n",
    "\n",
    "\n",
    "    fig,axs = plt.subplots(figsize=(10,5))\n",
    "\n",
    "    #plt.xticks(range(1750,2021), range(1750,2021))\n",
    "\n",
    "    axs.yaxis.set_major_formatter(ticker.FuncFormatter(lambda x, pos: f'{x / 10**9:.0f}'))\n",
    "\n",
    "    ax_canada_vs_canada_no_factory = sns.lineplot(\n",
    "        data=df_methane_final,\n",
    "        x='Year',\n",
    "        y='Annual methane emissions',\n",
    "        hue='Entity'\n",
    "    )\n",
    "    ax_canada_vs_canada_no_factory.set(\n",
    "        xlabel='Date',\n",
    "        ylabel='Billion Tonnes of Methane',\n",
    "        ylim=(0,None),\n",
    "        title='''Methane Emissions by Country per Year (1950 - 2018)'''\n",
    "    )\n",
    "\n",
    "    axs.set_xlim(df_methane_final['Year'].min(), df_methane_final['Year'].max())\n",
    "\n",
    "    plt.xticks(range(1950, 2018, 5), range(1950, 2018, 5))\n",
    "\n",
    "    plt.legend(bbox_to_anchor=(1.05, 1), loc='upper left', borderaxespad=0, title=\"\")\n",
    "    #plt.legend(title='')\n",
    "\n",
    "    plt.show()"
   ]
  },
  {
   "cell_type": "code",
   "execution_count": null,
   "metadata": {},
   "outputs": [],
   "source": [
    "nitrousQuery = '''\n",
    "    SELECT Entity,\n",
    "    Annual_nitrous_oxide_emissions,\n",
    "    Year\n",
    "    FROM finalProject\n",
    "'''\n",
    "connection = create_db_connection(\"localhost\", \"root\", pw, db)\n",
    "nitrous_data = read_query(connection, nitrousQuery)\n",
    "\n",
    "# Create a pandas DataFrame from the list\n",
    "df_nitrous_final = pd.DataFrame(nitrous_data, columns=['Entity', 'Annual nitrous emissions', 'Year'])\n"
   ]
  },
  {
   "cell_type": "code",
   "execution_count": null,
   "metadata": {},
   "outputs": [],
   "source": [
    "import matplotlib.ticker as ticker\n",
    "\n",
    "# Creating Graph for comparing Canada All and Canada - Factory\n",
    "# df_canada_vs_canada_no_factory\n",
    "plt.style.use('default')\n",
    "\n",
    "with plt.style.context('Solarize_Light2'):\n",
    "\n",
    "\n",
    "    fig,axs = plt.subplots(figsize=(10,5))\n",
    "\n",
    "  #plt.xticks(range(1750,2021), range(1750,2021))\n",
    "\n",
    "    axs.yaxis.set_major_formatter(ticker.FuncFormatter(lambda x, pos: f'{x / 10**9:.1f}'))\n",
    "\n",
    "    ax_canada_vs_canada_no_factory = sns.lineplot(\n",
    "        data=df_nitrous_final,\n",
    "        x='Year',\n",
    "        y='Annual nitrous emissions',\n",
    "        hue='Entity'\n",
    "    )\n",
    "    ax_canada_vs_canada_no_factory.set(\n",
    "        xlabel='Date',\n",
    "        ylabel='Billion Tonnes of Nitrous Oxide',\n",
    "        ylim=(0,None),\n",
    "        title='''Nitrous Oxide Emissions by Country per Year (1850 - 2021)'''\n",
    "    )\n",
    "\n",
    "    axs.set_xlim(df_nitrous_final['Year'].min(), df_nitrous_final['Year'].max())\n",
    "\n",
    "    plt.xticks(range(1950, 2018, 5), range(1950, 2018, 5))\n",
    "\n",
    "    plt.legend(bbox_to_anchor=(1.05, 1), loc='upper left', borderaxespad=0, title=\"\")\n",
    "  #plt.legend(title='')\n",
    "\n",
    "plt.show()"
   ]
  },
  {
   "cell_type": "code",
   "execution_count": null,
   "metadata": {},
   "outputs": [],
   "source": [
    "co2_gdp_Query = '''\n",
    "    SELECT Entity,\n",
    "    per_gdp_CO2,\n",
    "    Year\n",
    "    FROM finalProject\n",
    "'''\n",
    "connection = create_db_connection(\"localhost\", \"root\", pw, db)\n",
    "co2_gdp_data = read_query(connection, co2_gdp_Query)\n",
    "\n",
    "# Create a pandas DataFrame from the list\n",
    "df_co2_gdp_final = pd.DataFrame(co2_gdp_data, columns=['Entity', 'per_gdp_CO2', 'Year'])"
   ]
  },
  {
   "cell_type": "code",
   "execution_count": null,
   "metadata": {},
   "outputs": [],
   "source": [
    "\n",
    "import matplotlib.ticker as ticker\n",
    "\n",
    "# Creating Graph for comparing Canada All and Canada - Factory\n",
    "# df_canada_vs_canada_no_factory\n",
    "plt.style.use('default')\n",
    "\n",
    "with plt.style.context('Solarize_Light2'):\n",
    "\n",
    "\n",
    "    fig,axs = plt.subplots(figsize=(10,5))\n",
    "\n",
    "    #plt.xticks(range(1750,2021), range(1750,2021))\n",
    "\n",
    "    co2_per_capita = sns.lineplot(\n",
    "        data=df_pop3_final,\n",
    "        x='Year',\n",
    "        y='per_gdp_CO2',\n",
    "        hue='Entity'\n",
    "    )\n",
    "    co2_per_capita.set(\n",
    "        xlabel='Date',\n",
    "        ylabel='Kilotonnes of CO₂',\n",
    "        ylim=(0,None),\n",
    "        title='''CO₂ Emissions compared worldwide from 'countries_array' per year (1950 - 2020)'''\n",
    "    )\n",
    "    \n",
    "    axs.set_xlim(df_nitrous_final['Year'].min(), df_nitrous_final['Year'].max())\n",
    "\n",
    "    plt.xticks(range(1950, 2018, 5), range(1950, 2018, 5))\n",
    "\n",
    "    plt.legend(bbox_to_anchor=(1.05, 1), loc='upper left', borderaxespad=0, title=\"\")\n",
    "    #plt.legend(title='')\n",
    "\n",
    "#plt.savefig('co2_emission_gdp.png', bbox_inches='tight')\n",
    "#files.download('co2_emission_gdp.png')\n",
    "\n",
    "plt.show()"
   ]
  },
  {
   "cell_type": "code",
   "execution_count": 22,
   "metadata": {},
   "outputs": [
    {
     "name": "stdout",
     "output_type": "stream",
     "text": [
      "Requirement already satisfied: redshift_connector in c:\\python310\\lib\\site-packages (2.0.910)"
     ]
    },
    {
     "name": "stderr",
     "output_type": "stream",
     "text": [
      "\n",
      "[notice] A new release of pip is available: 23.0.1 -> 23.1\n",
      "[notice] To update, run: python.exe -m pip install --upgrade pip\n"
     ]
    },
    {
     "name": "stdout",
     "output_type": "stream",
     "text": [
      "\n",
      "Requirement already satisfied: pytz>=2020.1 in c:\\python310\\lib\\site-packages (from redshift_connector) (2022.7.1)\n",
      "Requirement already satisfied: requests<3.0.0,>=2.23.0 in c:\\python310\\lib\\site-packages (from redshift_connector) (2.28.2)\n",
      "Requirement already satisfied: botocore<2.0.0,>=1.12.201 in c:\\python310\\lib\\site-packages (from redshift_connector) (1.29.120)\n",
      "Requirement already satisfied: scramp<1.5.0,>=1.2.0 in c:\\python310\\lib\\site-packages (from redshift_connector) (1.4.4)\n",
      "Requirement already satisfied: lxml>=4.6.5 in c:\\python310\\lib\\site-packages (from redshift_connector) (4.9.2)\n",
      "Requirement already satisfied: boto3<2.0.0,>=1.9.201 in c:\\python310\\lib\\site-packages (from redshift_connector) (1.26.120)\n",
      "Requirement already satisfied: setuptools in c:\\python310\\lib\\site-packages (from redshift_connector) (63.2.0)\n",
      "Requirement already satisfied: packaging in c:\\python310\\lib\\site-packages (from redshift_connector) (23.0)\n",
      "Requirement already satisfied: beautifulsoup4<5.0.0,>=4.7.0 in c:\\python310\\lib\\site-packages (from redshift_connector) (4.11.1)\n",
      "Requirement already satisfied: soupsieve>1.2 in c:\\python310\\lib\\site-packages (from beautifulsoup4<5.0.0,>=4.7.0->redshift_connector) (2.3.2.post1)\n",
      "Requirement already satisfied: s3transfer<0.7.0,>=0.6.0 in c:\\python310\\lib\\site-packages (from boto3<2.0.0,>=1.9.201->redshift_connector) (0.6.0)\n",
      "Requirement already satisfied: jmespath<2.0.0,>=0.7.1 in c:\\python310\\lib\\site-packages (from boto3<2.0.0,>=1.9.201->redshift_connector) (1.0.1)\n",
      "Requirement already satisfied: urllib3<1.27,>=1.25.4 in c:\\python310\\lib\\site-packages (from botocore<2.0.0,>=1.12.201->redshift_connector) (1.26.14)\n",
      "Requirement already satisfied: python-dateutil<3.0.0,>=2.1 in c:\\python310\\lib\\site-packages (from botocore<2.0.0,>=1.12.201->redshift_connector) (2.8.2)\n",
      "Requirement already satisfied: certifi>=2017.4.17 in c:\\python310\\lib\\site-packages (from requests<3.0.0,>=2.23.0->redshift_connector) (2022.12.7)\n",
      "Requirement already satisfied: charset-normalizer<4,>=2 in c:\\python310\\lib\\site-packages (from requests<3.0.0,>=2.23.0->redshift_connector) (3.0.1)\n",
      "Requirement already satisfied: idna<4,>=2.5 in c:\\python310\\lib\\site-packages (from requests<3.0.0,>=2.23.0->redshift_connector) (3.4)\n",
      "Requirement already satisfied: asn1crypto>=1.5.1 in c:\\python310\\lib\\site-packages (from scramp<1.5.0,>=1.2.0->redshift_connector) (1.5.1)\n",
      "Requirement already satisfied: six>=1.5 in c:\\python310\\lib\\site-packages (from python-dateutil<3.0.0,>=2.1->botocore<2.0.0,>=1.12.201->redshift_connector) (1.16.0)\n"
     ]
    }
   ],
   "source": [
    "!pip install redshift_connector"
   ]
  },
  {
   "cell_type": "code",
   "execution_count": 71,
   "metadata": {},
   "outputs": [],
   "source": [
    "\n",
    "\n",
    "import redshift_connector\n",
    "\n",
    "connection = redshift_connector.connect(\n",
    "     host='redshift-cluster-1.cigoy313aggq.us-east-1.redshift.amazonaws.com',\n",
    "     database='dev',\n",
    "     port=5439,\n",
    "     user='awsuser',\n",
    "     password='Winter2023'\n",
    "  )\n"
   ]
  },
  {
   "cell_type": "code",
   "execution_count": 72,
   "metadata": {},
   "outputs": [],
   "source": [
    "def execute_query(connection, query):\n",
    "    cursor = connection.cursor()\n",
    "    cursor.execute(query)\n",
    "    connection.commit()\n",
    "    print(\"Query successful\")\n"
   ]
  },
  {
   "cell_type": "code",
   "execution_count": 58,
   "metadata": {},
   "outputs": [
    {
     "data": {
      "text/plain": [
       "([100,\n",
       "  12813,\n",
       "  7937,\n",
       "  'default                                                                                                                                                                                                                                                                                                                         ',\n",
       "  36538,\n",
       "  1073766804,\n",
       "  datetime.datetime(2023, 4, 26, 2, 45, 52, 57644),\n",
       "  'SELECT * FROM stv_inflight;                                                                         ',\n",
       "  0,\n",
       "  0,\n",
       "  0],)"
      ]
     },
     "execution_count": 58,
     "metadata": {},
     "output_type": "execute_result"
    }
   ],
   "source": [
    "q1 = 'SELECT * FROM stv_inflight;'\n",
    "read_query(connection, q1)"
   ]
  },
  {
   "cell_type": "code",
   "execution_count": 70,
   "metadata": {},
   "outputs": [
    {
     "ename": "ProgrammingError",
     "evalue": "{'S': 'ERROR', 'C': '42P01', 'M': 'Table \"finalproject\" does not exist', 'F': '../src/pg/src/backend/tcop/utility.c', 'L': '262', 'R': 'DropErrorMsgNonExistent'}",
     "output_type": "error",
     "traceback": [
      "\u001b[1;31m---------------------------------------------------------------------------\u001b[0m",
      "\u001b[1;31mProgrammingError\u001b[0m                          Traceback (most recent call last)",
      "Cell \u001b[1;32mIn[70], line 5\u001b[0m\n\u001b[0;32m      1\u001b[0m drop_table \u001b[38;5;241m=\u001b[39m \u001b[38;5;124m'''\u001b[39m\n\u001b[0;32m      2\u001b[0m \u001b[38;5;124mDrop table finalProject\u001b[39m\n\u001b[0;32m      3\u001b[0m \u001b[38;5;124m'''\u001b[39m\n\u001b[1;32m----> 5\u001b[0m \u001b[43mexecute_query\u001b[49m\u001b[43m(\u001b[49m\u001b[43mconnection\u001b[49m\u001b[43m,\u001b[49m\u001b[43mdrop_table\u001b[49m\u001b[43m)\u001b[49m\n",
      "Cell \u001b[1;32mIn[69], line 3\u001b[0m, in \u001b[0;36mexecute_query\u001b[1;34m(connection, query)\u001b[0m\n\u001b[0;32m      1\u001b[0m \u001b[38;5;28;01mdef\u001b[39;00m \u001b[38;5;21mexecute_query\u001b[39m(connection, query):\n\u001b[0;32m      2\u001b[0m     cursor \u001b[38;5;241m=\u001b[39m connection\u001b[38;5;241m.\u001b[39mcursor()\n\u001b[1;32m----> 3\u001b[0m     \u001b[43mcursor\u001b[49m\u001b[38;5;241;43m.\u001b[39;49m\u001b[43mexecute\u001b[49m\u001b[43m(\u001b[49m\u001b[43mquery\u001b[49m\u001b[43m)\u001b[49m\n\u001b[0;32m      4\u001b[0m     connection\u001b[38;5;241m.\u001b[39mcommit()\n\u001b[0;32m      5\u001b[0m     \u001b[38;5;28mprint\u001b[39m(\u001b[38;5;124m\"\u001b[39m\u001b[38;5;124mQuery successful\u001b[39m\u001b[38;5;124m\"\u001b[39m)\n",
      "File \u001b[1;32mC:\\Python310\\lib\\site-packages\\redshift_connector\\cursor.py:240\u001b[0m, in \u001b[0;36mCursor.execute\u001b[1;34m(self, operation, args, stream, merge_socket_read)\u001b[0m\n\u001b[0;32m    238\u001b[0m         \u001b[38;5;28mself\u001b[39m\u001b[38;5;241m.\u001b[39m_c\u001b[38;5;241m.\u001b[39mexecute(\u001b[38;5;28mself\u001b[39m, \u001b[38;5;124m\"\u001b[39m\u001b[38;5;124mbegin transaction\u001b[39m\u001b[38;5;124m\"\u001b[39m, \u001b[38;5;28;01mNone\u001b[39;00m)\n\u001b[0;32m    239\u001b[0m     \u001b[38;5;28mself\u001b[39m\u001b[38;5;241m.\u001b[39m_c\u001b[38;5;241m.\u001b[39mmerge_socket_read \u001b[38;5;241m=\u001b[39m merge_socket_read\n\u001b[1;32m--> 240\u001b[0m     \u001b[38;5;28;43mself\u001b[39;49m\u001b[38;5;241;43m.\u001b[39;49m\u001b[43m_c\u001b[49m\u001b[38;5;241;43m.\u001b[39;49m\u001b[43mexecute\u001b[49m\u001b[43m(\u001b[49m\u001b[38;5;28;43mself\u001b[39;49m\u001b[43m,\u001b[49m\u001b[43m \u001b[49m\u001b[43moperation\u001b[49m\u001b[43m,\u001b[49m\u001b[43m \u001b[49m\u001b[43margs\u001b[49m\u001b[43m)\u001b[49m\n\u001b[0;32m    241\u001b[0m \u001b[38;5;28;01mexcept\u001b[39;00m \u001b[38;5;167;01mAttributeError\u001b[39;00m \u001b[38;5;28;01mas\u001b[39;00m e:\n\u001b[0;32m    242\u001b[0m     \u001b[38;5;28;01mraise\u001b[39;00m e\n",
      "File \u001b[1;32mC:\\Python310\\lib\\site-packages\\redshift_connector\\core.py:1783\u001b[0m, in \u001b[0;36mConnection.execute\u001b[1;34m(self, cursor, operation, vals)\u001b[0m\n\u001b[0;32m   1781\u001b[0m     \u001b[38;5;28mself\u001b[39m\u001b[38;5;241m.\u001b[39mhandle_messages_merge_socket_read(cursor)\n\u001b[0;32m   1782\u001b[0m \u001b[38;5;28;01melse\u001b[39;00m:\n\u001b[1;32m-> 1783\u001b[0m     \u001b[38;5;28;43mself\u001b[39;49m\u001b[38;5;241;43m.\u001b[39;49m\u001b[43mhandle_messages\u001b[49m\u001b[43m(\u001b[49m\u001b[43mcursor\u001b[49m\u001b[43m)\u001b[49m\n",
      "File \u001b[1;32mC:\\Python310\\lib\\site-packages\\redshift_connector\\core.py:1969\u001b[0m, in \u001b[0;36mConnection.handle_messages\u001b[1;34m(self, cursor)\u001b[0m\n\u001b[0;32m   1966\u001b[0m     \u001b[38;5;28mself\u001b[39m\u001b[38;5;241m.\u001b[39mmessage_types[code](\u001b[38;5;28mself\u001b[39m\u001b[38;5;241m.\u001b[39m_read(data_len \u001b[38;5;241m-\u001b[39m \u001b[38;5;241m4\u001b[39m), cursor)\n\u001b[0;32m   1968\u001b[0m \u001b[38;5;28;01mif\u001b[39;00m \u001b[38;5;28mself\u001b[39m\u001b[38;5;241m.\u001b[39merror \u001b[38;5;129;01mis\u001b[39;00m \u001b[38;5;129;01mnot\u001b[39;00m \u001b[38;5;28;01mNone\u001b[39;00m:\n\u001b[1;32m-> 1969\u001b[0m     \u001b[38;5;28;01mraise\u001b[39;00m \u001b[38;5;28mself\u001b[39m\u001b[38;5;241m.\u001b[39merror\n",
      "\u001b[1;31mProgrammingError\u001b[0m: {'S': 'ERROR', 'C': '42P01', 'M': 'Table \"finalproject\" does not exist', 'F': '../src/pg/src/backend/tcop/utility.c', 'L': '262', 'R': 'DropErrorMsgNonExistent'}"
     ]
    }
   ],
   "source": [
    "drop_table = '''\n",
    "Drop table finalProject\n",
    "'''\n",
    "\n",
    "execute_query(connection,drop_table)"
   ]
  },
  {
   "cell_type": "code",
   "execution_count": 73,
   "metadata": {},
   "outputs": [
    {
     "name": "stdout",
     "output_type": "stream",
     "text": [
      "Query successful\n"
     ]
    }
   ],
   "source": [
    "\n",
    "\n",
    "create_finalProject_table = \"\"\"\n",
    "CREATE TABLE finalProject (\n",
    "  Id bigint identity(0,1),\n",
    "  Entity VARCHAR(32) NOT NULL,\n",
    "  Year integer NOT NULL,\n",
    "  Annual_CO₂_emissions float,\n",
    "  GDP_per_capita float,\n",
    "  Population float,\n",
    "  per_gdp_CO2 float ,\n",
    "  Annual_nitrous_oxide_emissions float,\n",
    "Annual_methane_emissions float,\n",
    "per_capita_CO2 float,\n",
    "C02_emmissions_worldtotal float,\n",
    "primary key (Id));\n",
    " \"\"\"\n",
    "\n",
    "\n",
    "\n",
    "\n",
    "execute_query(connection, create_finalProject_table) # Execute our defined query\n"
   ]
  },
  {
   "cell_type": "code",
   "execution_count": null,
   "metadata": {},
   "outputs": [],
   "source": []
  },
  {
   "cell_type": "code",
   "execution_count": 42,
   "metadata": {},
   "outputs": [],
   "source": [
    "\n",
    "        \n",
    "\n",
    "def execute_list_query(connection, sql, val):\n",
    "    cursor = connection.cursor()\n",
    "    try:\n",
    "        cursor.executemany(sql, val)\n",
    "        connection.commit()\n",
    "        print(\"Query successful\")\n",
    "    except Error as err:\n",
    "        print(f\"Error: '{err}'\")\n"
   ]
  },
  {
   "cell_type": "code",
   "execution_count": 43,
   "metadata": {},
   "outputs": [],
   "source": [
    "\n",
    "\n",
    "\n",
    "def read_query(connection, query):\n",
    "    cursor = connection.cursor()\n",
    "    result = None\n",
    "    try:\n",
    "        cursor.execute(query)\n",
    "        result = cursor.fetchall()\n",
    "        return result\n",
    "    except Error as err:\n",
    "        print(f\"Error: '{err}'\")"
   ]
  },
  {
   "cell_type": "code",
   "execution_count": 74,
   "metadata": {},
   "outputs": [
    {
     "name": "stdout",
     "output_type": "stream",
     "text": [
      "Query successful\n"
     ]
    }
   ],
   "source": [
    "\n",
    "        \n",
    "sql1 = '''\n",
    "   INSERT INTO finalProject (Entity, Year, Annual_CO₂_emissions, per_capita_CO2 , GDP_per_capita, Population, per_gdp_CO2, Annual_nitrous_oxide_emissions , Annual_methane_emissions, \n",
    "C02_emmissions_worldtotal)\n",
    "    VALUES ( %s, %s, %s, %s, %s, %s, %s, %s,%s,%s)\n",
    "  '''\n",
    "\n",
    "val1 = df_pop3_final.values.tolist()\n",
    "#print(val1)\n",
    "#connection = create_db_connection(\"localhost\", \"root\", pw, db)\n",
    "execute_list_query(connection, sql1, val1) "
   ]
  },
  {
   "cell_type": "code",
   "execution_count": 75,
   "metadata": {},
   "outputs": [
    {
     "name": "stdout",
     "output_type": "stream",
     "text": [
      "(['Canada', 154133760.0, 1950], ['Canada', 162678030.0, 1951], ['Canada', 159408750.0, 1952], ['Canada', 160608180.0, 1953], ['Canada', 162967660.0, 1954], ['Canada', 169473170.0, 1955], ['Canada', 189802430.0, 1956], ['Canada', 182811420.0, 1957], ['Canada', 182155200.0, 1958], ['Canada', 184481360.0, 1959], ['Canada', 192716180.0, 1960], ['Canada', 194000690.0, 1961], ['Canada', 206990770.0, 1962], ['Canada', 210910780.0, 1963], ['Canada', 237577730.0, 1964], ['Canada', 251917000.0, 1965], ['Canada', 259074370.0, 1966], ['Canada', 281637020.0, 1967], ['Canada', 303261340.0, 1968], ['Canada', 307119200.0, 1969], ['Canada', 341177200.0, 1970], ['Canada', 352287420.0, 1971], ['Canada', 380791680.0, 1972], ['Canada', 381273180.0, 1973], ['Canada', 389616930.0, 1974], ['Canada', 396786780.0, 1975], ['Canada', 398962240.0, 1976], ['Canada', 407790430.0, 1977], ['Canada', 415528670.0, 1978], ['Canada', 441676770.0, 1979], ['Canada', 442846850.0, 1980], ['Canada', 429629730.0, 1981], ['Canada', 414454900.0, 1982], ['Canada', 408338500.0, 1983], ['Canada', 425233340.0, 1984], ['Canada', 421718700.0, 1985], ['Canada', 404707940.0, 1986], ['Canada', 430982050.0, 1987], ['Canada', 455669100.0, 1988], ['Canada', 462885150.0, 1989], ['Canada', 458218340.0, 1990], ['Canada', 449959700.0, 1991], ['Canada', 463758620.0, 1992], ['Canada', 464311580.0, 1993], ['Canada', 478726300.0, 1994], ['Canada', 491386780.0, 1995], ['Canada', 507510750.0, 1996], ['Canada', 521839970.0, 1997], ['Canada', 529649540.0, 1998], ['Canada', 544063800.0, 1999], ['Canada', 566690400.0, 2000], ['Canada', 558777540.0, 2001], ['Canada', 564050900.0, 2002], ['Canada', 581305300.0, 2003], ['Canada', 579592060.0, 2004], ['Canada', 574653630.0, 2005], ['Canada', 568450940.0, 2006], ['Canada', 593515800.0, 2007], ['Canada', 576558340.0, 2008], ['Canada', 543967600.0, 2009], ['Canada', 556560600.0, 2010], ['Canada', 567054140.0, 2011], ['Canada', 568223170.0, 2012], ['Canada', 572613300.0, 2013], ['Canada', 569839700.0, 2014], ['Canada', 574298240.0, 2015], ['Canada', 560525300.0, 2016], ['Canada', 571544640.0, 2017], ['Canada', 584369150.0, 2018], ['China', 78835290.0, 1950], ['China', 102115210.0, 1951], ['China', 127999330.0, 1952], ['China', 133782880.0, 1953], ['China', 160877400.0, 1954], ['China', 190521460.0, 1955], ['China', 215823980.0, 1956], ['China', 255784960.0, 1957], ['China', 524617060.0, 1958], ['China', 720151550.0, 1959], ['China', 798799940.0, 1960], ['China', 570630200.0, 1961], ['China', 459618080.0, 1962], ['China', 456779460.0, 1963], ['China', 460637100.0, 1964], ['China', 500286370.0, 1965], ['China', 549459260.0, 1966], ['China', 460225900.0, 1967], ['China', 495506560.0, 1968], ['China', 607683300.0, 1969], ['China', 807952640.0, 1970], ['China', 909209700.0, 1971], ['China', 968645570.0, 1972], ['China', 1008292600.0, 1973], ['China', 1028099840.0, 1974], ['China', 1183215000.0, 1975], ['China', 1226421200.0, 1976], ['China', 1340831100.0, 1977], ['China', 1492777900.0, 1978], ['China', 1525661200.0, 1979], ['China', 1494495900.0, 1980], ['China', 1476487800.0, 1981], ['China', 1606585000.0, 1982], ['China', 1694216800.0, 1983], ['China', 1844828000.0, 1984], ['China', 1998083000.0, 1985], ['China', 2104213400.0, 1986], ['China', 2257738500.0, 1987], ['China', 2425893600.0, 1988], ['China', 2463654400.0, 1989], ['China', 2484854800.0, 1990], ['China', 2606096100.0, 1991], ['China', 2730787600.0, 1992], ['China', 2921651000.0, 1993], ['China', 3100002000.0, 1994], ['China', 3357909000.0, 1995], ['China', 3503233500.0, 1996], ['China', 3510169000.0, 1997], ['China', 3360455400.0, 1998], ['China', 3552842000.0, 1999], ['China', 3644464000.0, 2000], ['China', 3723730700.0, 2001], ['China', 4112459000.0, 2002], ['China', 4827446000.0, 2003], ['China', 5223755000.0, 2004], ['China', 5876555300.0, 2005], ['China', 6488804000.0, 2006], ['China', 6978611700.0, 2007], ['China', 7496832000.0, 2008], ['China', 7886532600.0, 2009], ['China', 8616653000.0, 2010], ['China', 9528556000.0, 2011], ['China', 9779281000.0, 2012], ['China', 9956309000.0, 2013], ['China', 9998621000.0, 2014], ['China', 9866905000.0, 2015], ['China', 9764980000.0, 2016], ['China', 10011107000.0, 2017], ['China', 10353877000.0, 2018], ['Russia', 884644700.0, 1960], ['Russia', 912314240.0, 1961], ['Russia', 957527600.0, 1962], ['Russia', 1026907300.0, 1963], ['Russia', 1092142800.0, 1964], ['Russia', 1158563800.0, 1965], ['Russia', 1223501600.0, 1966], ['Russia', 1279355900.0, 1967], ['Russia', 1315310000.0, 1968], ['Russia', 1369809000.0, 1969], ['Russia', 1440678900.0, 1970], ['Russia', 1528854800.0, 1971], ['Russia', 1608549600.0, 1972], ['Russia', 1676483300.0, 1973], ['Russia', 1740322700.0, 1974], ['Russia', 1829331700.0, 1975], ['Russia', 1899786000.0, 1976], ['Russia', 1964405000.0, 1977], ['Russia', 2031868700.0, 1978], ['Russia', 2048720500.0, 1979], ['Russia', 2129328900.0, 1980], ['Russia', 2088785400.0, 1981], ['Russia', 2128165500.0, 1982], ['Russia', 2158350800.0, 1983], ['Russia', 2177516300.0, 1984], ['Russia', 2348382000.0, 1985], ['Russia', 2348803300.0, 1986], ['Russia', 2357850600.0, 1987], ['Russia', 2436908500.0, 1988], ['Russia', 2404824800.0, 1989], ['Russia', 2534865000.0, 1990], ['Russia', 2405532000.0, 1991], ['Russia', 1965610200.0, 1992], ['Russia', 1865939500.0, 1993], ['Russia', 1646941800.0, 1994], ['Russia', 1618951200.0, 1995], ['Russia', 1586172800.0, 1996], ['Russia', 1481618800.0, 1997], ['Russia', 1464543000.0, 1998], ['Russia', 1493155100.0, 1999], ['Russia', 1478184700.0, 2000], ['Russia', 1514713500.0, 2001], ['Russia', 1505520100.0, 2002], ['Russia', 1535293000.0, 2003], ['Russia', 1541753900.0, 2004], ['Russia', 1559082800.0, 2005], ['Russia', 1618246100.0, 2006], ['Russia', 1618586200.0, 2007], ['Russia', 1646969000.0, 2008], ['Russia', 1539305700.0, 2009], ['Russia', 1626187500.0, 2010], ['Russia', 1679278500.0, 2011], ['Russia', 1694576400.0, 2012], ['Russia', 1632716400.0, 2013], ['Russia', 1631662200.0, 2014], ['Russia', 1629713200.0, 2015], ['Russia', 1624756400.0, 2016], ['Russia', 1654154100.0, 2017], ['Russia', 1700452900.0, 2018], ['United Kingdom', 500792130.0, 1950], ['United Kingdom', 545252800.0, 1951], ['United Kingdom', 528706100.0, 1952], ['United Kingdom', 540210750.0, 1953], ['United Kingdom', 553009700.0, 1954], ['United Kingdom', 576951700.0, 1955], ['United Kingdom', 574323500.0, 1956], ['United Kingdom', 570714200.0, 1957], ['United Kingdom', 556315840.0, 1958], ['United Kingdom', 546606140.0, 1959], ['United Kingdom', 584020030.0, 1960], ['United Kingdom', 588614800.0, 1961], ['United Kingdom', 592931500.0, 1962], ['United Kingdom', 603385660.0, 1963], ['United Kingdom', 607866000.0, 1964], ['United Kingdom', 622111600.0, 1965], ['United Kingdom', 618074600.0, 1966], ['United Kingdom', 592057000.0, 1967], ['United Kingdom', 606488260.0, 1968], ['United Kingdom', 628382600.0, 1969], ['United Kingdom', 652577400.0, 1970], ['United Kingdom', 660388200.0, 1971], ['United Kingdom', 648026300.0, 1972], ['United Kingdom', 659577100.0, 1973], ['United Kingdom', 617183600.0, 1974], ['United Kingdom', 603247040.0, 1975], ['United Kingdom', 598526000.0, 1976], ['United Kingdom', 604361700.0, 1977], ['United Kingdom', 604713500.0, 1978], ['United Kingdom', 644512800.0, 1979], ['United Kingdom', 579035400.0, 1980], ['United Kingdom', 560554500.0, 1981], ['United Kingdom', 548240400.0, 1982], ['United Kingdom', 545485100.0, 1983], ['United Kingdom', 529108160.0, 1984], ['United Kingdom', 559627300.0, 1985], ['United Kingdom', 568554000.0, 1986], ['United Kingdom', 571667600.0, 1987], ['United Kingdom', 570293760.0, 1988], ['United Kingdom', 581576100.0, 1989], ['United Kingdom', 601945100.0, 1990], ['United Kingdom', 609412700.0, 1991], ['United Kingdom', 593845950.0, 1992], ['United Kingdom', 579612540.0, 1993], ['United Kingdom', 574016900.0, 1994], ['United Kingdom', 566158900.0, 1995], ['United Kingdom', 586760700.0, 1996], ['United Kingdom', 562708160.0, 1997], ['United Kingdom', 568543700.0, 1998], ['United Kingdom', 561649600.0, 1999], ['United Kingdom', 569033660.0, 2000], ['United Kingdom', 577970560.0, 2001], ['United Kingdom', 560273200.0, 2002], ['United Kingdom', 571618750.0, 2003], ['United Kingdom', 573429760.0, 2004], ['United Kingdom', 570338370.0, 2005], ['United Kingdom', 567845600.0, 2006], ['United Kingdom', 559566460.0, 2007], ['United Kingdom', 544932400.0, 2008], ['United Kingdom', 494107700.0, 2009], ['United Kingdom', 511904580.0, 2010], ['United Kingdom', 469713300.0, 2011], ['United Kingdom', 487476770.0, 2012], ['United Kingdom', 477611260.0, 2013], ['United Kingdom', 438807070.0, 2014], ['United Kingdom', 422460800.0, 2015], ['United Kingdom', 399430140.0, 2016], ['United Kingdom', 387367140.0, 2017], ['United Kingdom', 379729760.0, 2018], ['United States', 2541485300.0, 1950], ['United States', 2618711600.0, 1951], ['United States', 2551219500.0, 1952], ['United States', 2612971300.0, 1953], ['United States', 2489462300.0, 1954], ['United States', 2728512000.0, 1955], ['United States', 2859995000.0, 1956], ['United States', 2835772200.0, 1957], ['United States', 2747107600.0, 1958], ['United States', 2831923200.0, 1959], ['United States', 2897315000.0, 1960], ['United States', 2886872800.0, 1961], ['United States', 2993902000.0, 1962], ['United States', 3126487600.0, 1963], ['United States', 3264313600.0, 1964], ['United States', 3399547000.0, 1965], ['United States', 3571421400.0, 1966], ['United States', 3705461000.0, 1967], ['United States', 3840919600.0, 1968], ['United States', 4035145200.0, 1969], ['United States', 4339686000.0, 1970], ['United States', 4365465000.0, 1971], ['United States', 4573015000.0, 1972], ['United States', 4785048600.0, 1973], ['United States', 4621046000.0, 1974], ['United States', 4478226000.0, 1975], ['United States', 4747762000.0, 1976], ['United States', 4889607000.0, 1977], ['United States', 4941361700.0, 1978], ['United States', 5008578600.0, 1979], ['United States', 4808520700.0, 1980], ['United States', 4686369300.0, 1981], ['United States', 4447256000.0, 1982], ['United States', 4429374000.0, 1983], ['United States', 4662141400.0, 1984], ['United States', 4652580000.0, 1985], ['United States', 4663369700.0, 1986], ['United States', 4825650700.0, 1987], ['United States', 5050475500.0, 1988], ['United States', 5132134400.0, 1989], ['United States', 5122496000.0, 1990], ['United States', 5064987000.0, 1991], ['United States', 5175220000.0, 1992], ['United States', 5274363000.0, 1993], ['United States', 5365579000.0, 1994], ['United States', 5427798500.0, 1995], ['United States', 5616430600.0, 1996], ['United States', 5691864600.0, 1997], ['United States', 5737129500.0, 1998], ['United States', 5810331600.0, 1999], ['United States', 6016350700.0, 2000], ['United States', 5911988000.0, 2001], ['United States', 5952699000.0, 2002], ['United States', 6015804400.0, 2003], ['United States', 6117963000.0, 2004], ['United States', 6137603600.0, 2005], ['United States', 6057163300.0, 2006], ['United States', 6135287300.0, 2007], ['United States', 5918868500.0, 2008], ['United States', 5482978000.0, 2009], ['United States', 5681392000.0, 2010], ['United States', 5546629000.0, 2011], ['United States', 5345454000.0, 2012], ['United States', 5480926000.0, 2013], ['United States', 5528871000.0, 2014], ['United States', 5376578000.0, 2015], ['United States', 5251757600.0, 2016], ['United States', 5210957300.0, 2017], ['United States', 5376657400.0, 2018], ['World', 6003272000.0, 1950], ['World', 9387668000.0, 1960], ['World', 14898716000.0, 1970], ['World', 19501263000.0, 1980], ['World', 22757480000.0, 1990], ['World', 25453623000.0, 2000], ['World', 33364347000.0, 2010], ['World', 35524190000.0, 2016], ['World', 36096737000.0, 2017], ['World', 36826510000.0, 2018])\n"
     ]
    }
   ],
   "source": [
    "\n",
    "\n",
    "   \n",
    "\n",
    "firstQuery ='''SELECT ENTITY, Annual_CO₂_emissions, Year from finalProject;'''\n",
    "#connection = create_db_connection(\"localhost\", \"root\", pw, db)\n",
    "df_co2_graph = read_query(connection, firstQuery)\n",
    "print(df_co2_graph)\n"
   ]
  },
  {
   "cell_type": "code",
   "execution_count": null,
   "metadata": {},
   "outputs": [],
   "source": []
  },
  {
   "cell_type": "code",
   "execution_count": null,
   "metadata": {},
   "outputs": [],
   "source": []
  }
 ],
 "metadata": {
  "colab": {
   "provenance": []
  },
  "kernelspec": {
   "display_name": "Python 3 (ipykernel)",
   "language": "python",
   "name": "python3"
  },
  "language_info": {
   "codemirror_mode": {
    "name": "ipython",
    "version": 3
   },
   "file_extension": ".py",
   "mimetype": "text/x-python",
   "name": "python",
   "nbconvert_exporter": "python",
   "pygments_lexer": "ipython3",
   "version": "3.10.7"
  },
  "vscode": {
   "interpreter": {
    "hash": "58c3fd0d1b316d19e13fe4cf46af3636098a47b7eb8e96f9b1d69c723b868d82"
   }
  }
 },
 "nbformat": 4,
 "nbformat_minor": 4
}
